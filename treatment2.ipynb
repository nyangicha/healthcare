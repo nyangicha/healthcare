{
 "cells": [
  {
   "cell_type": "markdown",
   "metadata": {},
   "source": [
    "QUERING THE KNOWLEDGE BASE"
   ]
  },
  {
   "cell_type": "code",
   "execution_count": 1,
   "metadata": {},
   "outputs": [
    {
     "ename": "ModuleNotFoundError",
     "evalue": "No module named 'spacy'",
     "output_type": "error",
     "traceback": [
      "\u001b[1;31m---------------------------------------------------------------------------\u001b[0m",
      "\u001b[1;31mModuleNotFoundError\u001b[0m                       Traceback (most recent call last)",
      "Cell \u001b[1;32mIn[1], line 1\u001b[0m\n\u001b[1;32m----> 1\u001b[0m \u001b[38;5;28;01mimport\u001b[39;00m\u001b[38;5;250m \u001b[39m\u001b[38;5;21;01mspacy\u001b[39;00m\n\u001b[0;32m      2\u001b[0m \u001b[38;5;28;01mfrom\u001b[39;00m\u001b[38;5;250m \u001b[39m\u001b[38;5;21;01mrdflib\u001b[39;00m\u001b[38;5;250m \u001b[39m\u001b[38;5;28;01mimport\u001b[39;00m Graph, Namespace\n\u001b[0;32m      4\u001b[0m \u001b[38;5;66;03m# Load NLP model\u001b[39;00m\n",
      "\u001b[1;31mModuleNotFoundError\u001b[0m: No module named 'spacy'"
     ]
    }
   ],
   "source": [
    "import spacy\n",
    "from rdflib import Graph, Namespace\n",
    "\n",
    "# Load NLP model\n",
    "nlp = spacy.load(\"en_core_web_sm\")\n",
    "\n",
    "# Load RDF Graph\n",
    "ontology_file = \"healthcare_ontology.ttl\"\n",
    "g = Graph()\n",
    "g.parse(ontology_file, format=\"ttl\")\n",
    "\n",
    "# Define Namespace\n",
    "HEALTH = Namespace(\"http://www.healthcare-ontology.org/\")\n",
    "\n",
    "# Keyword Mapping\n",
    "keyword_mapping = {\n",
    "    \"treatment\": \"treats\",\n",
    "    \"cure\": \"treats\",\n",
    "    \"therapy\": \"treats\",\n",
    "    \"disease\": \"Disease\",\n",
    "    \"side effect\": \"hasSideEffect\",\n",
    "    \"symptom\": \"hasSymptom\",\n",
    "    \"contraindication\": \"hasContraindication\",\n",
    "    \"avoid\": \"hasContraindication\",\n",
    "    \"drug\": \"Drug\",\n",
    "    \"patient\": \"Patient\"\n",
    "}\n",
    "\n",
    "# Function to process user query\n",
    "def convert_nl_to_sparql(user_query):\n",
    "    doc = nlp(user_query.lower())  # Process text with NLP model\n",
    "\n",
    "    subject, relation, obj = None, None, None\n",
    "\n",
    "    for token in doc:\n",
    "        for keyword, ontology_term in keyword_mapping.items():\n",
    "            if keyword in token.text:\n",
    "                if relation is None:\n",
    "                    relation = ontology_term\n",
    "                else:\n",
    "                    obj = ontology_term\n",
    "\n",
    "    for ent in doc.ents:\n",
    "        if subject is None:\n",
    "            subject = ent.text.capitalize()  # Ensure capitalization matches ontology\n",
    "\n",
    "    if relation and subject:\n",
    "        sparql_query = f\"\"\"\n",
    "        PREFIX ex: <http://www.healthcare-ontology.org/>\n",
    "        SELECT ?result WHERE {{\n",
    "            ?result ex:{relation} ex:{subject} .\n",
    "        }}\n",
    "        \"\"\"\n",
    "        return sparql_query\n",
    "    else:\n",
    "        return None\n",
    "\n",
    "# Function to execute SPARQL query\n",
    "def run_sparql_query(sparql_query):\n",
    "    if sparql_query:\n",
    "        results = g.query(sparql_query)\n",
    "        return [str(row[0]) for row in results]\n",
    "    else:\n",
    "        return [\"No relevant data found.\"]\n",
    "\n",
    "# Example User Query\n",
    "user_input = \"What is the treatment for diabetes?\"\n",
    "sparql_query = convert_nl_to_sparql(user_input)\n",
    "\n",
    "print(\"\\n🔍 SPARQL Query Generated:\\n\", sparql_query)\n",
    "print(\"\\n✅ Query Results:\")\n",
    "print(run_sparql_query(sparql_query))\n"
   ]
  }
 ],
 "metadata": {
  "kernelspec": {
   "display_name": "myVenv",
   "language": "python",
   "name": "python3"
  },
  "language_info": {
   "codemirror_mode": {
    "name": "ipython",
    "version": 3
   },
   "file_extension": ".py",
   "mimetype": "text/x-python",
   "name": "python",
   "nbconvert_exporter": "python",
   "pygments_lexer": "ipython3",
   "version": "3.13.0"
  }
 },
 "nbformat": 4,
 "nbformat_minor": 2
}
