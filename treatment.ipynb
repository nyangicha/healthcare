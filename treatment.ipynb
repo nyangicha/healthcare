{
 "cells": [
  {
   "cell_type": "markdown",
   "metadata": {},
   "source": [
    "A scenario of a \"Personalized Treatment Recommendation for Chronic Diseases\" system. The system will allow healthcare professionals to query a knowledge base (KB) for treatment options based on patient conditions, medical history, and available drugs.\n",
    "Install RDFlib"
   ]
  },
  {
   "cell_type": "code",
   "execution_count": 4,
   "metadata": {},
   "outputs": [
    {
     "name": "stdout",
     "output_type": "stream",
     "text": [
      "\n",
      "✅ Recommended treatments for Diabetes:\n",
      "http://www.healthcare-ontology.org/Metformin\n",
      "\n",
      "⚠️ Drugs to avoid for Kidney Disease:\n",
      "http://www.healthcare-ontology.org/Metformin\n",
      "\n",
      "💊 Side effects of Metformin:\n",
      "http://www.healthcare-ontology.org/Nausea\n"
     ]
    }
   ],
   "source": [
    "from rdflib import Graph, Namespace, RDF\n",
    "from rdflib.namespace import RDFS, OWL\n",
    "\n",
    "# Loading the ontology (TTL file)\n",
    "ontology_file = \"healthcare_ontology.ttl\"\n",
    "g = Graph()\n",
    "g.parse(ontology_file, format=\"ttl\")\n",
    "\n",
    "# Define the namespace (Update with your ontology's base IRI)\n",
    "HEALTH = Namespace(\"http://www.healthcare-ontology.org/\")\n",
    "\n",
    "# Function to execute SPARQL queries\n",
    "def run_sparql_query(query):\n",
    "    results = g.query(query)\n",
    "    for row in results:\n",
    "        print(row[0])\n",
    "\n",
    "# Query1: What are the recommended treatments for Diabetes?\n",
    "query_treatment = \"\"\"\n",
    "PREFIX ex: <http://www.healthcare-ontology.org/>\n",
    "SELECT ?treatment WHERE {\n",
    "    ?treatment ex:treats ex:Diabetes .\n",
    "}\n",
    "\"\"\"\n",
    "print(\"\\n✅ Recommended treatments for Diabetes:\")\n",
    "run_sparql_query(query_treatment)\n",
    "\n",
    "# Query2: What drugs should be avoided for Kidney Disease?\n",
    "query_contraindication = \"\"\"\n",
    "PREFIX ex: <http://www.healthcare-ontology.org/>\n",
    "SELECT ?drug WHERE {\n",
    "    ?drug ex:hasContraindication ex:KidneyDisease .\n",
    "}\n",
    "\"\"\"\n",
    "print(\"\\n⚠️ Drugs to avoid for Kidney Disease:\")\n",
    "run_sparql_query(query_contraindication)\n",
    "\n",
    "# Query3: What are the side effects of Metformin?\n",
    "query_side_effects = \"\"\"\n",
    "PREFIX ex: <http://www.healthcare-ontology.org/>\n",
    "SELECT ?sideEffect WHERE {\n",
    "    ex:Metformin ex:hasSideEffect ?sideEffect .\n",
    "}\n",
    "\"\"\"\n",
    "print(\"\\n💊 Side effects of Metformin:\")\n",
    "run_sparql_query(query_side_effects)\n"
   ]
  }
 ],
 "metadata": {
  "kernelspec": {
   "display_name": "myVenv",
   "language": "python",
   "name": "python3"
  },
  "language_info": {
   "codemirror_mode": {
    "name": "ipython",
    "version": 3
   },
   "file_extension": ".py",
   "mimetype": "text/x-python",
   "name": "python",
   "nbconvert_exporter": "python",
   "pygments_lexer": "ipython3",
   "version": "3.13.0"
  }
 },
 "nbformat": 4,
 "nbformat_minor": 2
}
